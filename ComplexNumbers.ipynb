{
  "nbformat": 4,
  "nbformat_minor": 0,
  "metadata": {
    "colab": {
      "provenance": []
    },
    "kernelspec": {
      "name": "python3",
      "display_name": "Python 3"
    },
    "language_info": {
      "name": "python"
    }
  },
  "cells": [
    {
      "cell_type": "code",
      "execution_count": null,
      "metadata": {
        "id": "MlWhPkk3HNNL"
      },
      "outputs": [],
      "source": [
        "class ComplexNumber:\n",
        "    def __init__(self, real, imaginary):\n",
        "        # Initialize real and imaginary parts\n",
        "        self.real = real\n",
        "        self.imaginary = imaginary\n",
        "\n",
        "    def add(self, other):\n",
        "        # Add another ComplexNumber object\n",
        "        return ComplexNumber(self.real + other.real, self.imaginary + other.imaginary)\n",
        "\n",
        "    def subtract(self, other):\n",
        "        # Subtract another ComplexNumber object\n",
        "        return ComplexNumber(self.real - other.real, self.imaginary - other.imaginary)\n",
        "\n",
        "    def multiply(self, other):\n",
        "        # Multiply by another ComplexNumber object\n",
        "        real_part = self.real * other.real - self.imaginary * other.imaginary\n",
        "        imaginary_part = self.real * other.imaginary + self.imaginary * other.real\n",
        "        return ComplexNumber(real_part, imaginary_part)\n",
        "\n",
        "    def divide(self, other):\n",
        "        # Divide by another ComplexNumber object\n",
        "        denominator = other.real ** 2 + other.imaginary ** 2\n",
        "        if denominator == 0:\n",
        "            print(\"Error: Cannot divide by zero\")\n",
        "            return None\n",
        "        real_part = (self.real * other.real + self.imaginary * other.imaginary) / denominator\n",
        "        imaginary_part = (self.imaginary * other.real - self.real * other.imaginary) / denominator\n",
        "        return ComplexNumber(real_part, imaginary_part)\n",
        "\n",
        "    def __eq__(self, other):\n",
        "        # Compare two ComplexNumber objects\n",
        "        return (abs(self.real - other.real) < 1e-10) and (abs(self.imaginary - other.imaginary) < 1e-10)\n",
        "\n",
        "    def __str__(self):\n",
        "        # Return string representation of the complex number\n",
        "        if self.imaginary >= 0:\n",
        "            return f\"{self.real} + {self.imaginary}i\"\n",
        "        else:\n",
        "            return f\"{self.real} - {-self.imaginary}i\"\n",
        "\n",
        "    def __repr__(self):\n",
        "        # Return a detailed string representation for debugging\n",
        "        return f\"ComplexNumber({self.real}, {self.imaginary})\"\n"
      ]
    }
  ]
}